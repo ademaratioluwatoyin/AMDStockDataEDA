{
  "nbformat": 4,
  "nbformat_minor": 0,
  "metadata": {
    "colab": {
      "name": "StockDataEDA.ipynb",
      "provenance": [],
      "authorship_tag": "ABX9TyMAa8Vg7IiheVoVWOS3yRrE",
      "include_colab_link": true
    },
    "kernelspec": {
      "name": "python3",
      "display_name": "Python 3"
    },
    "language_info": {
      "name": "python"
    }
  },
  "cells": [
    {
      "cell_type": "markdown",
      "metadata": {
        "id": "view-in-github",
        "colab_type": "text"
      },
      "source": [
        "<a href=\"https://colab.research.google.com/github/ademaratioluwatoyin/AMDStockDataEDA/blob/main/StockDataEDA.ipynb\" target=\"_parent\"><img src=\"https://colab.research.google.com/assets/colab-badge.svg\" alt=\"Open In Colab\"/></a>"
      ]
    },
    {
      "cell_type": "markdown",
      "metadata": {
        "id": "lrJrRNNLrQgS"
      },
      "source": [
        "# **Exploratory Data Analysis on AMD Stock Data for the Last One year**"
      ]
    },
    {
      "cell_type": "code",
      "metadata": {
        "colab": {
          "base_uri": "https://localhost:8080/"
        },
        "id": "Ra5PdT6WrgTv",
        "outputId": "e3b81a8d-7a54-4d14-de44-c4ca4bb9706a"
      },
      "source": [
        "# install yfinance and pandas\n",
        "\n",
        "!pip install yfinance\n",
        "#!pip install pandas"
      ],
      "execution_count": 2,
      "outputs": [
        {
          "output_type": "stream",
          "text": [
            "Requirement already satisfied: yfinance in /usr/local/lib/python3.7/dist-packages (0.1.63)\n",
            "Requirement already satisfied: multitasking>=0.0.7 in /usr/local/lib/python3.7/dist-packages (from yfinance) (0.0.9)\n",
            "Requirement already satisfied: pandas>=0.24 in /usr/local/lib/python3.7/dist-packages (from yfinance) (1.1.5)\n",
            "Requirement already satisfied: lxml>=4.5.1 in /usr/local/lib/python3.7/dist-packages (from yfinance) (4.6.3)\n",
            "Requirement already satisfied: numpy>=1.15 in /usr/local/lib/python3.7/dist-packages (from yfinance) (1.19.5)\n",
            "Requirement already satisfied: requests>=2.20 in /usr/local/lib/python3.7/dist-packages (from yfinance) (2.23.0)\n",
            "Requirement already satisfied: pytz>=2017.2 in /usr/local/lib/python3.7/dist-packages (from pandas>=0.24->yfinance) (2018.9)\n",
            "Requirement already satisfied: python-dateutil>=2.7.3 in /usr/local/lib/python3.7/dist-packages (from pandas>=0.24->yfinance) (2.8.2)\n",
            "Requirement already satisfied: six>=1.5 in /usr/local/lib/python3.7/dist-packages (from python-dateutil>=2.7.3->pandas>=0.24->yfinance) (1.15.0)\n",
            "Requirement already satisfied: certifi>=2017.4.17 in /usr/local/lib/python3.7/dist-packages (from requests>=2.20->yfinance) (2021.5.30)\n",
            "Requirement already satisfied: chardet<4,>=3.0.2 in /usr/local/lib/python3.7/dist-packages (from requests>=2.20->yfinance) (3.0.4)\n",
            "Requirement already satisfied: idna<3,>=2.5 in /usr/local/lib/python3.7/dist-packages (from requests>=2.20->yfinance) (2.10)\n",
            "Requirement already satisfied: urllib3!=1.25.0,!=1.25.1,<1.26,>=1.21.1 in /usr/local/lib/python3.7/dist-packages (from requests>=2.20->yfinance) (1.24.3)\n"
          ],
          "name": "stdout"
        }
      ]
    },
    {
      "cell_type": "code",
      "metadata": {
        "id": "NyZIb-zHryvW"
      },
      "source": [
        "#import yfinance and pandas\n",
        "\n",
        "import yfinance as yf\n",
        "import pandas as pd"
      ],
      "execution_count": 3,
      "outputs": []
    },
    {
      "cell_type": "code",
      "metadata": {
        "id": "jwwzIra0sWsA"
      },
      "source": [
        "# using the Ticker module, I create an object for AMD (Advanced Micro Devices) with the ticker symbol is AMD \n",
        "\n",
        "AMD_StockData = yf.Ticker('AMD')"
      ],
      "execution_count": 4,
      "outputs": []
    },
    {
      "cell_type": "code",
      "metadata": {
        "colab": {
          "base_uri": "https://localhost:8080/"
        },
        "id": "T3l-JXmst_wN",
        "outputId": "8584770a-53fa-4483-d45e-a8fd359427f7"
      },
      "source": [
        "# Retreive the stock information\n",
        "\n",
        "AMD_StockData_info = AMD_StockData.info\n",
        "AMD_StockData_info"
      ],
      "execution_count": 5,
      "outputs": [
        {
          "output_type": "execute_result",
          "data": {
            "text/plain": [
              "{'52WeekChange': 0.31618905,\n",
              " 'SandP52WeekChange': 0.31953692,\n",
              " 'address1': '2485 Augustine Drive',\n",
              " 'algorithm': None,\n",
              " 'annualHoldingsTurnover': None,\n",
              " 'annualReportExpenseRatio': None,\n",
              " 'ask': 106.87,\n",
              " 'askSize': 900,\n",
              " 'averageDailyVolume10Day': 92418966,\n",
              " 'averageVolume': 57950350,\n",
              " 'averageVolume10days': 92418966,\n",
              " 'beta': 2.012372,\n",
              " 'beta3Year': None,\n",
              " 'bid': 106.99,\n",
              " 'bidSize': 1000,\n",
              " 'bookValue': 5.824,\n",
              " 'category': None,\n",
              " 'circulatingSupply': None,\n",
              " 'city': 'Santa Clara',\n",
              " 'companyOfficers': [],\n",
              " 'country': 'United States',\n",
              " 'currency': 'USD',\n",
              " 'currentPrice': 107.37,\n",
              " 'currentRatio': 2.703,\n",
              " 'dateShortInterest': 1627603200,\n",
              " 'dayHigh': 108.6999,\n",
              " 'dayLow': 105.35,\n",
              " 'debtToEquity': 9.299,\n",
              " 'dividendRate': None,\n",
              " 'dividendYield': None,\n",
              " 'earningsGrowth': 3.448,\n",
              " 'earningsQuarterlyGrowth': 3.522,\n",
              " 'ebitda': 2900999936,\n",
              " 'ebitdaMargins': 0.21746999,\n",
              " 'enterpriseToEbitda': 43.859,\n",
              " 'enterpriseToRevenue': 9.538,\n",
              " 'enterpriseValue': 127233507328,\n",
              " 'exDividendDate': 798940800,\n",
              " 'exchange': 'NMS',\n",
              " 'exchangeTimezoneName': 'America/New_York',\n",
              " 'exchangeTimezoneShortName': 'EDT',\n",
              " 'expireDate': None,\n",
              " 'fiftyDayAverage': 97.49143,\n",
              " 'fiftyTwoWeekHigh': 122.49,\n",
              " 'fiftyTwoWeekLow': 72.5,\n",
              " 'financialCurrency': 'USD',\n",
              " 'fiveYearAverageReturn': None,\n",
              " 'fiveYearAvgDividendYield': None,\n",
              " 'floatShares': 1204365358,\n",
              " 'forwardEps': 3.05,\n",
              " 'forwardPE': 35.20328,\n",
              " 'freeCashflow': 1889250048,\n",
              " 'fromCurrency': None,\n",
              " 'fullTimeEmployees': 12600,\n",
              " 'fundFamily': None,\n",
              " 'fundInceptionDate': None,\n",
              " 'gmtOffSetMilliseconds': '-14400000',\n",
              " 'grossMargins': 0.45712003,\n",
              " 'grossProfits': 4347000000,\n",
              " 'heldPercentInsiders': 0.00403,\n",
              " 'heldPercentInstitutions': 0.69331,\n",
              " 'impliedSharesOutstanding': None,\n",
              " 'industry': 'Semiconductors',\n",
              " 'isEsgPopulated': False,\n",
              " 'lastCapGain': None,\n",
              " 'lastDividendDate': None,\n",
              " 'lastDividendValue': None,\n",
              " 'lastFiscalYearEnd': 1608940800,\n",
              " 'lastMarket': None,\n",
              " 'lastSplitDate': None,\n",
              " 'lastSplitFactor': None,\n",
              " 'legalType': None,\n",
              " 'logo_url': 'https://logo.clearbit.com/amd.com',\n",
              " 'longBusinessSummary': 'Advanced Micro Devices, Inc. operates as a semiconductor company worldwide. The company operates in two segments, Computing and Graphics; and Enterprise, Embedded and Semi-Custom. Its products include x86 microprocessors as an accelerated processing unit, chipsets, discrete and integrated graphics processing units (GPUs), data center and professional GPUs, and development services; and server and embedded processors, and semi-custom System-on-Chip (SoC) products, development services, and technology for game consoles. The company provides x86 microprocessors for desktop PCs under the AMD Ryzen, AMD Ryzen PRO, Ryzen, Threadripper, AMD A-Series, AMD FX, AMD Athlon, AMD Athlon PRO, and AMD Pro A-Series processors brands; microprocessors for notebook and 2-in-1s under the AMD Ryzen, AMD A-Series, AMD Athlon, AMD Ryzen PRO, AMD Athlon PRO, and AMD Pro A-Series processors brands; microprocessors for servers under the AMD EPYC and AMD Opteron brands; and chipsets under the AMD trademark. It also offers discrete GPUs for desktop and notebook PCs under the AMD Radeon graphics and AMD Embedded Radeon brands; professional graphics products under the AMD Radeon Pro and AMD FirePro graphics brands; and Radeon Instinct and AMD Instinct accelerators for servers. In addition, the company provides embedded processor solutions under the AMD Opteron, AMD Athlon, AMD Geode, AMD Ryzen, AMD EPYC, AMD R-Series, and G-Series processors brands; and customer-specific solutions based on AMD CPU, GPU, and multi-media technologies, as well as semi-custom SoC products. It serves original equipment manufacturers, public cloud service providers, original design manufacturers, system integrators, independent distributors, online retailers, and add-in-board manufacturers through its direct sales force, independent distributors, and sales representatives. Advanced Micro Devices, Inc. was founded in 1969 and is headquartered in Santa Clara, California.',\n",
              " 'longName': 'Advanced Micro Devices, Inc.',\n",
              " 'market': 'us_market',\n",
              " 'marketCap': 130236588032,\n",
              " 'maxAge': 1,\n",
              " 'maxSupply': None,\n",
              " 'messageBoardId': 'finmb_168864',\n",
              " 'morningStarOverallRating': None,\n",
              " 'morningStarRiskRating': None,\n",
              " 'mostRecentQuarter': 1624665600,\n",
              " 'navPrice': None,\n",
              " 'netIncomeToCommon': 3436000000,\n",
              " 'nextFiscalYearEnd': 1672012800,\n",
              " 'numberOfAnalystOpinions': 34,\n",
              " 'open': 106.6435,\n",
              " 'openInterest': None,\n",
              " 'operatingCashflow': 2743000064,\n",
              " 'operatingMargins': 0.19018,\n",
              " 'payoutRatio': 0,\n",
              " 'pegRatio': 1.47,\n",
              " 'phone': '408 749 4000',\n",
              " 'previousClose': 107.48,\n",
              " 'priceHint': 2,\n",
              " 'priceToBook': 18.435783,\n",
              " 'priceToSalesTrailing12Months': 9.762862,\n",
              " 'profitMargins': 0.25757,\n",
              " 'quickRatio': 2.012,\n",
              " 'quoteType': 'EQUITY',\n",
              " 'recommendationKey': 'buy',\n",
              " 'recommendationMean': 2.3,\n",
              " 'regularMarketDayHigh': 108.6999,\n",
              " 'regularMarketDayLow': 105.35,\n",
              " 'regularMarketOpen': 106.6435,\n",
              " 'regularMarketPreviousClose': 107.48,\n",
              " 'regularMarketPrice': 107.37,\n",
              " 'regularMarketVolume': 60724679,\n",
              " 'returnOnAssets': 0.18358,\n",
              " 'returnOnEquity': 0.66268,\n",
              " 'revenueGrowth': 0.993,\n",
              " 'revenuePerShare': 11.071,\n",
              " 'revenueQuarterlyGrowth': None,\n",
              " 'sector': 'Technology',\n",
              " 'sharesOutstanding': 1212969984,\n",
              " 'sharesPercentSharesOut': 0.0735,\n",
              " 'sharesShort': 89134119,\n",
              " 'sharesShortPreviousMonthDate': 1625011200,\n",
              " 'sharesShortPriorMonth': 88560782,\n",
              " 'shortName': 'Advanced Micro Devices, Inc.',\n",
              " 'shortPercentOfFloat': 0.0739,\n",
              " 'shortRatio': 1.62,\n",
              " 'startDate': None,\n",
              " 'state': 'CA',\n",
              " 'strikePrice': None,\n",
              " 'symbol': 'AMD',\n",
              " 'targetHighPrice': 169.7,\n",
              " 'targetLowPrice': 74,\n",
              " 'targetMeanPrice': 113.93,\n",
              " 'targetMedianPrice': 110,\n",
              " 'threeYearAverageReturn': None,\n",
              " 'toCurrency': None,\n",
              " 'totalAssets': None,\n",
              " 'totalCash': 3792999936,\n",
              " 'totalCashPerShare': 3.127,\n",
              " 'totalDebt': 657000000,\n",
              " 'totalRevenue': 13340000256,\n",
              " 'tradeable': False,\n",
              " 'trailingAnnualDividendRate': None,\n",
              " 'trailingAnnualDividendYield': None,\n",
              " 'trailingEps': 2.837,\n",
              " 'trailingPE': 37.846317,\n",
              " 'twoHundredDayAverage': 85.718765,\n",
              " 'volume': 60724679,\n",
              " 'volume24Hr': None,\n",
              " 'volumeAllCurrencies': None,\n",
              " 'website': 'http://www.amd.com',\n",
              " 'yield': None,\n",
              " 'ytdReturn': None,\n",
              " 'zip': '95054'}"
            ]
          },
          "metadata": {
            "tags": []
          },
          "execution_count": 5
        }
      ]
    },
    {
      "cell_type": "code",
      "metadata": {
        "colab": {
          "base_uri": "https://localhost:8080/",
          "height": 35
        },
        "id": "w4u_7g2luXfP",
        "outputId": "d1841c44-09ee-4a00-8ea4-b6c5c20f6858"
      },
      "source": [
        "# Retrieve country the stock belongs to \n",
        "\n",
        "AMD_StockData_info['country']"
      ],
      "execution_count": 6,
      "outputs": [
        {
          "output_type": "execute_result",
          "data": {
            "application/vnd.google.colaboratory.intrinsic+json": {
              "type": "string"
            },
            "text/plain": [
              "'United States'"
            ]
          },
          "metadata": {
            "tags": []
          },
          "execution_count": 6
        }
      ]
    },
    {
      "cell_type": "code",
      "metadata": {
        "colab": {
          "base_uri": "https://localhost:8080/",
          "height": 35
        },
        "id": "QAbjCi7Vul8U",
        "outputId": "2962f949-db96-4ae8-92e5-e69ed9d1eef7"
      },
      "source": [
        "# Find the sector stock belongs to\n",
        "\n",
        "AMD_StockData_info['sector']"
      ],
      "execution_count": 7,
      "outputs": [
        {
          "output_type": "execute_result",
          "data": {
            "application/vnd.google.colaboratory.intrinsic+json": {
              "type": "string"
            },
            "text/plain": [
              "'Technology'"
            ]
          },
          "metadata": {
            "tags": []
          },
          "execution_count": 7
        }
      ]
    },
    {
      "cell_type": "code",
      "metadata": {
        "colab": {
          "base_uri": "https://localhost:8080/",
          "height": 419
        },
        "id": "dfuBw-oRuwNQ",
        "outputId": "fdf0f126-eccc-44d2-c295-c3b7bd53489f"
      },
      "source": [
        "# obtain stock data for the last one year\n",
        "\n",
        "AMD_StockData_share_price = AMD_StockData.history(period = '1y')\n",
        "AMD_StockData_share_price.reset_index(inplace = True)\n",
        "AMD_StockData_share_price"
      ],
      "execution_count": 8,
      "outputs": [
        {
          "output_type": "execute_result",
          "data": {
            "text/html": [
              "<div>\n",
              "<style scoped>\n",
              "    .dataframe tbody tr th:only-of-type {\n",
              "        vertical-align: middle;\n",
              "    }\n",
              "\n",
              "    .dataframe tbody tr th {\n",
              "        vertical-align: top;\n",
              "    }\n",
              "\n",
              "    .dataframe thead th {\n",
              "        text-align: right;\n",
              "    }\n",
              "</style>\n",
              "<table border=\"1\" class=\"dataframe\">\n",
              "  <thead>\n",
              "    <tr style=\"text-align: right;\">\n",
              "      <th></th>\n",
              "      <th>Date</th>\n",
              "      <th>Open</th>\n",
              "      <th>High</th>\n",
              "      <th>Low</th>\n",
              "      <th>Close</th>\n",
              "      <th>Volume</th>\n",
              "      <th>Dividends</th>\n",
              "      <th>Stock Splits</th>\n",
              "    </tr>\n",
              "  </thead>\n",
              "  <tbody>\n",
              "    <tr>\n",
              "      <th>0</th>\n",
              "      <td>2020-08-17</td>\n",
              "      <td>82.089996</td>\n",
              "      <td>83.059998</td>\n",
              "      <td>81.550003</td>\n",
              "      <td>82.419998</td>\n",
              "      <td>31450200</td>\n",
              "      <td>0</td>\n",
              "      <td>0</td>\n",
              "    </tr>\n",
              "    <tr>\n",
              "      <th>1</th>\n",
              "      <td>2020-08-18</td>\n",
              "      <td>82.800003</td>\n",
              "      <td>82.879997</td>\n",
              "      <td>81.029999</td>\n",
              "      <td>81.660004</td>\n",
              "      <td>30970500</td>\n",
              "      <td>0</td>\n",
              "      <td>0</td>\n",
              "    </tr>\n",
              "    <tr>\n",
              "      <th>2</th>\n",
              "      <td>2020-08-19</td>\n",
              "      <td>81.779999</td>\n",
              "      <td>81.849998</td>\n",
              "      <td>80.449997</td>\n",
              "      <td>81.089996</td>\n",
              "      <td>37507400</td>\n",
              "      <td>0</td>\n",
              "      <td>0</td>\n",
              "    </tr>\n",
              "    <tr>\n",
              "      <th>3</th>\n",
              "      <td>2020-08-20</td>\n",
              "      <td>79.739998</td>\n",
              "      <td>82.839996</td>\n",
              "      <td>79.120003</td>\n",
              "      <td>82.769997</td>\n",
              "      <td>42948900</td>\n",
              "      <td>0</td>\n",
              "      <td>0</td>\n",
              "    </tr>\n",
              "    <tr>\n",
              "      <th>4</th>\n",
              "      <td>2020-08-21</td>\n",
              "      <td>83.290001</td>\n",
              "      <td>84.410004</td>\n",
              "      <td>82.230003</td>\n",
              "      <td>83.809998</td>\n",
              "      <td>48280300</td>\n",
              "      <td>0</td>\n",
              "      <td>0</td>\n",
              "    </tr>\n",
              "    <tr>\n",
              "      <th>...</th>\n",
              "      <td>...</td>\n",
              "      <td>...</td>\n",
              "      <td>...</td>\n",
              "      <td>...</td>\n",
              "      <td>...</td>\n",
              "      <td>...</td>\n",
              "      <td>...</td>\n",
              "      <td>...</td>\n",
              "    </tr>\n",
              "    <tr>\n",
              "      <th>248</th>\n",
              "      <td>2021-08-11</td>\n",
              "      <td>107.599998</td>\n",
              "      <td>109.790001</td>\n",
              "      <td>105.620003</td>\n",
              "      <td>107.680000</td>\n",
              "      <td>91788300</td>\n",
              "      <td>0</td>\n",
              "      <td>0</td>\n",
              "    </tr>\n",
              "    <tr>\n",
              "      <th>249</th>\n",
              "      <td>2021-08-12</td>\n",
              "      <td>107.389999</td>\n",
              "      <td>108.440002</td>\n",
              "      <td>105.860001</td>\n",
              "      <td>106.500000</td>\n",
              "      <td>60578700</td>\n",
              "      <td>0</td>\n",
              "      <td>0</td>\n",
              "    </tr>\n",
              "    <tr>\n",
              "      <th>250</th>\n",
              "      <td>2021-08-13</td>\n",
              "      <td>107.169998</td>\n",
              "      <td>111.709999</td>\n",
              "      <td>106.570000</td>\n",
              "      <td>110.550003</td>\n",
              "      <td>100059200</td>\n",
              "      <td>0</td>\n",
              "      <td>0</td>\n",
              "    </tr>\n",
              "    <tr>\n",
              "      <th>251</th>\n",
              "      <td>2021-08-16</td>\n",
              "      <td>110.199997</td>\n",
              "      <td>111.580002</td>\n",
              "      <td>105.870003</td>\n",
              "      <td>107.480003</td>\n",
              "      <td>73325400</td>\n",
              "      <td>0</td>\n",
              "      <td>0</td>\n",
              "    </tr>\n",
              "    <tr>\n",
              "      <th>252</th>\n",
              "      <td>2021-08-17</td>\n",
              "      <td>106.643501</td>\n",
              "      <td>108.699898</td>\n",
              "      <td>105.349998</td>\n",
              "      <td>107.363602</td>\n",
              "      <td>60744911</td>\n",
              "      <td>0</td>\n",
              "      <td>0</td>\n",
              "    </tr>\n",
              "  </tbody>\n",
              "</table>\n",
              "<p>253 rows × 8 columns</p>\n",
              "</div>"
            ],
            "text/plain": [
              "          Date        Open        High  ...     Volume  Dividends  Stock Splits\n",
              "0   2020-08-17   82.089996   83.059998  ...   31450200          0             0\n",
              "1   2020-08-18   82.800003   82.879997  ...   30970500          0             0\n",
              "2   2020-08-19   81.779999   81.849998  ...   37507400          0             0\n",
              "3   2020-08-20   79.739998   82.839996  ...   42948900          0             0\n",
              "4   2020-08-21   83.290001   84.410004  ...   48280300          0             0\n",
              "..         ...         ...         ...  ...        ...        ...           ...\n",
              "248 2021-08-11  107.599998  109.790001  ...   91788300          0             0\n",
              "249 2021-08-12  107.389999  108.440002  ...   60578700          0             0\n",
              "250 2021-08-13  107.169998  111.709999  ...  100059200          0             0\n",
              "251 2021-08-16  110.199997  111.580002  ...   73325400          0             0\n",
              "252 2021-08-17  106.643501  108.699898  ...   60744911          0             0\n",
              "\n",
              "[253 rows x 8 columns]"
            ]
          },
          "metadata": {
            "tags": []
          },
          "execution_count": 8
        }
      ]
    },
    {
      "cell_type": "code",
      "metadata": {
        "colab": {
          "base_uri": "https://localhost:8080/"
        },
        "id": "MHvCl9G3wBpe",
        "outputId": "7473a914-36ef-4050-d5fd-1222b3fc9b84"
      },
      "source": [
        "# how many days or rows\n",
        "\n",
        "len(AMD_StockData_share_price.index)"
      ],
      "execution_count": 9,
      "outputs": [
        {
          "output_type": "execute_result",
          "data": {
            "text/plain": [
              "253"
            ]
          },
          "metadata": {
            "tags": []
          },
          "execution_count": 9
        }
      ]
    },
    {
      "cell_type": "code",
      "metadata": {
        "colab": {
          "base_uri": "https://localhost:8080/"
        },
        "id": "knm6Phd1xGsW",
        "outputId": "0233fedf-1083-4bbc-9183-4d7e17382baa"
      },
      "source": [
        "AMD_StockData_share_price.dtypes"
      ],
      "execution_count": 10,
      "outputs": [
        {
          "output_type": "execute_result",
          "data": {
            "text/plain": [
              "Date            datetime64[ns]\n",
              "Open                   float64\n",
              "High                   float64\n",
              "Low                    float64\n",
              "Close                  float64\n",
              "Volume                   int64\n",
              "Dividends                int64\n",
              "Stock Splits             int64\n",
              "dtype: object"
            ]
          },
          "metadata": {
            "tags": []
          },
          "execution_count": 10
        }
      ]
    },
    {
      "cell_type": "code",
      "metadata": {
        "colab": {
          "base_uri": "https://localhost:8080/",
          "height": 506
        },
        "id": "Q5Rzp9Imwt8f",
        "outputId": "558a7921-b4dc-4641-f955-bd3815afbf90"
      },
      "source": [
        "AMD_StockData_share_price.describe(include = 'all')"
      ],
      "execution_count": 11,
      "outputs": [
        {
          "output_type": "stream",
          "text": [
            "/usr/local/lib/python3.7/dist-packages/ipykernel_launcher.py:1: FutureWarning: Treating datetime data as categorical rather than numeric in `.describe` is deprecated and will be removed in a future version of pandas. Specify `datetime_is_numeric=True` to silence this warning and adopt the future behavior now.\n",
            "  \"\"\"Entry point for launching an IPython kernel.\n"
          ],
          "name": "stderr"
        },
        {
          "output_type": "execute_result",
          "data": {
            "text/html": [
              "<div>\n",
              "<style scoped>\n",
              "    .dataframe tbody tr th:only-of-type {\n",
              "        vertical-align: middle;\n",
              "    }\n",
              "\n",
              "    .dataframe tbody tr th {\n",
              "        vertical-align: top;\n",
              "    }\n",
              "\n",
              "    .dataframe thead th {\n",
              "        text-align: right;\n",
              "    }\n",
              "</style>\n",
              "<table border=\"1\" class=\"dataframe\">\n",
              "  <thead>\n",
              "    <tr style=\"text-align: right;\">\n",
              "      <th></th>\n",
              "      <th>Date</th>\n",
              "      <th>Open</th>\n",
              "      <th>High</th>\n",
              "      <th>Low</th>\n",
              "      <th>Close</th>\n",
              "      <th>Volume</th>\n",
              "      <th>Dividends</th>\n",
              "      <th>Stock Splits</th>\n",
              "    </tr>\n",
              "  </thead>\n",
              "  <tbody>\n",
              "    <tr>\n",
              "      <th>count</th>\n",
              "      <td>253</td>\n",
              "      <td>253.000000</td>\n",
              "      <td>253.000000</td>\n",
              "      <td>253.000000</td>\n",
              "      <td>253.000000</td>\n",
              "      <td>2.530000e+02</td>\n",
              "      <td>253.0</td>\n",
              "      <td>253.0</td>\n",
              "    </tr>\n",
              "    <tr>\n",
              "      <th>unique</th>\n",
              "      <td>253</td>\n",
              "      <td>NaN</td>\n",
              "      <td>NaN</td>\n",
              "      <td>NaN</td>\n",
              "      <td>NaN</td>\n",
              "      <td>NaN</td>\n",
              "      <td>NaN</td>\n",
              "      <td>NaN</td>\n",
              "    </tr>\n",
              "    <tr>\n",
              "      <th>top</th>\n",
              "      <td>2021-05-04 00:00:00</td>\n",
              "      <td>NaN</td>\n",
              "      <td>NaN</td>\n",
              "      <td>NaN</td>\n",
              "      <td>NaN</td>\n",
              "      <td>NaN</td>\n",
              "      <td>NaN</td>\n",
              "      <td>NaN</td>\n",
              "    </tr>\n",
              "    <tr>\n",
              "      <th>freq</th>\n",
              "      <td>1</td>\n",
              "      <td>NaN</td>\n",
              "      <td>NaN</td>\n",
              "      <td>NaN</td>\n",
              "      <td>NaN</td>\n",
              "      <td>NaN</td>\n",
              "      <td>NaN</td>\n",
              "      <td>NaN</td>\n",
              "    </tr>\n",
              "    <tr>\n",
              "      <th>first</th>\n",
              "      <td>2020-08-17 00:00:00</td>\n",
              "      <td>NaN</td>\n",
              "      <td>NaN</td>\n",
              "      <td>NaN</td>\n",
              "      <td>NaN</td>\n",
              "      <td>NaN</td>\n",
              "      <td>NaN</td>\n",
              "      <td>NaN</td>\n",
              "    </tr>\n",
              "    <tr>\n",
              "      <th>last</th>\n",
              "      <td>2021-08-17 00:00:00</td>\n",
              "      <td>NaN</td>\n",
              "      <td>NaN</td>\n",
              "      <td>NaN</td>\n",
              "      <td>NaN</td>\n",
              "      <td>NaN</td>\n",
              "      <td>NaN</td>\n",
              "      <td>NaN</td>\n",
              "    </tr>\n",
              "    <tr>\n",
              "      <th>mean</th>\n",
              "      <td>NaN</td>\n",
              "      <td>85.897247</td>\n",
              "      <td>87.340434</td>\n",
              "      <td>84.297036</td>\n",
              "      <td>85.843414</td>\n",
              "      <td>4.968488e+07</td>\n",
              "      <td>0.0</td>\n",
              "      <td>0.0</td>\n",
              "    </tr>\n",
              "    <tr>\n",
              "      <th>std</th>\n",
              "      <td>NaN</td>\n",
              "      <td>7.945878</td>\n",
              "      <td>8.366308</td>\n",
              "      <td>7.775777</td>\n",
              "      <td>8.095390</td>\n",
              "      <td>2.560224e+07</td>\n",
              "      <td>0.0</td>\n",
              "      <td>0.0</td>\n",
              "    </tr>\n",
              "    <tr>\n",
              "      <th>min</th>\n",
              "      <td>NaN</td>\n",
              "      <td>73.160004</td>\n",
              "      <td>75.029999</td>\n",
              "      <td>72.500000</td>\n",
              "      <td>73.089996</td>\n",
              "      <td>1.670590e+07</td>\n",
              "      <td>0.0</td>\n",
              "      <td>0.0</td>\n",
              "    </tr>\n",
              "    <tr>\n",
              "      <th>25%</th>\n",
              "      <td>NaN</td>\n",
              "      <td>80.250000</td>\n",
              "      <td>81.709999</td>\n",
              "      <td>78.970001</td>\n",
              "      <td>80.190002</td>\n",
              "      <td>3.520320e+07</td>\n",
              "      <td>0.0</td>\n",
              "      <td>0.0</td>\n",
              "    </tr>\n",
              "    <tr>\n",
              "      <th>50%</th>\n",
              "      <td>NaN</td>\n",
              "      <td>83.660004</td>\n",
              "      <td>85.589996</td>\n",
              "      <td>82.550003</td>\n",
              "      <td>83.910004</td>\n",
              "      <td>4.358370e+07</td>\n",
              "      <td>0.0</td>\n",
              "      <td>0.0</td>\n",
              "    </tr>\n",
              "    <tr>\n",
              "      <th>75%</th>\n",
              "      <td>NaN</td>\n",
              "      <td>90.820000</td>\n",
              "      <td>92.300003</td>\n",
              "      <td>89.099998</td>\n",
              "      <td>90.820000</td>\n",
              "      <td>5.422190e+07</td>\n",
              "      <td>0.0</td>\n",
              "      <td>0.0</td>\n",
              "    </tr>\n",
              "    <tr>\n",
              "      <th>max</th>\n",
              "      <td>NaN</td>\n",
              "      <td>116.629997</td>\n",
              "      <td>122.489998</td>\n",
              "      <td>114.160004</td>\n",
              "      <td>118.769997</td>\n",
              "      <td>2.253687e+08</td>\n",
              "      <td>0.0</td>\n",
              "      <td>0.0</td>\n",
              "    </tr>\n",
              "  </tbody>\n",
              "</table>\n",
              "</div>"
            ],
            "text/plain": [
              "                       Date        Open  ...  Dividends  Stock Splits\n",
              "count                   253  253.000000  ...      253.0         253.0\n",
              "unique                  253         NaN  ...        NaN           NaN\n",
              "top     2021-05-04 00:00:00         NaN  ...        NaN           NaN\n",
              "freq                      1         NaN  ...        NaN           NaN\n",
              "first   2020-08-17 00:00:00         NaN  ...        NaN           NaN\n",
              "last    2021-08-17 00:00:00         NaN  ...        NaN           NaN\n",
              "mean                    NaN   85.897247  ...        0.0           0.0\n",
              "std                     NaN    7.945878  ...        0.0           0.0\n",
              "min                     NaN   73.160004  ...        0.0           0.0\n",
              "25%                     NaN   80.250000  ...        0.0           0.0\n",
              "50%                     NaN   83.660004  ...        0.0           0.0\n",
              "75%                     NaN   90.820000  ...        0.0           0.0\n",
              "max                     NaN  116.629997  ...        0.0           0.0\n",
              "\n",
              "[13 rows x 8 columns]"
            ]
          },
          "metadata": {
            "tags": []
          },
          "execution_count": 11
        }
      ]
    },
    {
      "cell_type": "code",
      "metadata": {
        "id": "3bzYD7oVydNM"
      },
      "source": [
        "%matplotlib inline\n",
        "import matplotlib\n",
        "import matplotlib.pyplot as plt\n"
      ],
      "execution_count": 12,
      "outputs": []
    },
    {
      "cell_type": "code",
      "metadata": {
        "id": "TeQucWudy0_O"
      },
      "source": [
        "import seaborn as sns"
      ],
      "execution_count": 13,
      "outputs": []
    },
    {
      "cell_type": "code",
      "metadata": {
        "colab": {
          "base_uri": "https://localhost:8080/",
          "height": 268
        },
        "id": "4zk09vPFy7NG",
        "outputId": "97f4e0a6-2945-4f14-9ef6-2592ca18b290"
      },
      "source": [
        "sns.boxplot(data = AMD_StockData_share_price, y = AMD_StockData_share_price['Open'])\n",
        "plt.ylabel('stock Price')\n",
        "plt.title('Open')\n",
        "plt.show()"
      ],
      "execution_count": 14,
      "outputs": [
        {
          "output_type": "display_data",
          "data": {
            "image/png": "[encoded data removed]",
            "text/plain": [
              "<Figure size 432x288 with 1 Axes>"
            ]
          },
          "metadata": {
            "tags": [],
            "needs_background": "light"
          }
        }
      ]
    },
    {
      "cell_type": "code",
      "metadata": {
        "colab": {
          "base_uri": "https://localhost:8080/",
          "height": 268
        },
        "id": "hztizQ1kzfbs",
        "outputId": "2717c5ad-c4cd-4668-f4ff-c3e2eeddfb21"
      },
      "source": [
        "sns.boxplot(data = AMD_StockData_share_price, y = AMD_StockData_share_price['High'])\n",
        "plt.ylabel('stock Price')\n",
        "plt.title('High')\n",
        "plt.show()"
      ],
      "execution_count": 15,
      "outputs": [
        {
          "output_type": "display_data",
          "data": {
            "image/png": "[encoded data removed]",
            "text/plain": [
              "<Figure size 432x288 with 1 Axes>"
            ]
          },
          "metadata": {
            "tags": [],
            "needs_background": "light"
          }
        }
      ]
    },
    {
      "cell_type": "code",
      "metadata": {
        "colab": {
          "base_uri": "https://localhost:8080/",
          "height": 268
        },
        "id": "zu_tkGJHC9zM",
        "outputId": "8ee0793f-4cd2-41df-a5fd-ce1a6e310a59"
      },
      "source": [
        "sns.boxplot(data = AMD_StockData_share_price, y = AMD_StockData_share_price['Low'])\n",
        "plt.ylabel('stock Price')\n",
        "plt.title('Low')\n",
        "plt.show()"
      ],
      "execution_count": 16,
      "outputs": [
        {
          "output_type": "display_data",
          "data": {
            "image/png": "[encoded data removed]",
            "text/plain": [
              "<Figure size 432x288 with 1 Axes>"
            ]
          },
          "metadata": {
            "tags": [],
            "needs_background": "light"
          }
        }
      ]
    },
    {
      "cell_type": "code",
      "metadata": {
        "colab": {
          "base_uri": "https://localhost:8080/",
          "height": 266
        },
        "id": "sRxCkKZhD6jh",
        "outputId": "dcbcf949-fb94-471d-cb76-f1a5ee6bbffe"
      },
      "source": [
        "AMD_StockData_share_price.corr()"
      ],
      "execution_count": 17,
      "outputs": [
        {
          "output_type": "execute_result",
          "data": {
            "text/html": [
              "<div>\n",
              "<style scoped>\n",
              "    .dataframe tbody tr th:only-of-type {\n",
              "        vertical-align: middle;\n",
              "    }\n",
              "\n",
              "    .dataframe tbody tr th {\n",
              "        vertical-align: top;\n",
              "    }\n",
              "\n",
              "    .dataframe thead th {\n",
              "        text-align: right;\n",
              "    }\n",
              "</style>\n",
              "<table border=\"1\" class=\"dataframe\">\n",
              "  <thead>\n",
              "    <tr style=\"text-align: right;\">\n",
              "      <th></th>\n",
              "      <th>Open</th>\n",
              "      <th>High</th>\n",
              "      <th>Low</th>\n",
              "      <th>Close</th>\n",
              "      <th>Volume</th>\n",
              "      <th>Dividends</th>\n",
              "      <th>Stock Splits</th>\n",
              "    </tr>\n",
              "  </thead>\n",
              "  <tbody>\n",
              "    <tr>\n",
              "      <th>Open</th>\n",
              "      <td>1.000000</td>\n",
              "      <td>0.985846</td>\n",
              "      <td>0.987479</td>\n",
              "      <td>0.970202</td>\n",
              "      <td>0.457924</td>\n",
              "      <td>NaN</td>\n",
              "      <td>NaN</td>\n",
              "    </tr>\n",
              "    <tr>\n",
              "      <th>High</th>\n",
              "      <td>0.985846</td>\n",
              "      <td>1.000000</td>\n",
              "      <td>0.986614</td>\n",
              "      <td>0.988941</td>\n",
              "      <td>0.536515</td>\n",
              "      <td>NaN</td>\n",
              "      <td>NaN</td>\n",
              "    </tr>\n",
              "    <tr>\n",
              "      <th>Low</th>\n",
              "      <td>0.987479</td>\n",
              "      <td>0.986614</td>\n",
              "      <td>1.000000</td>\n",
              "      <td>0.986888</td>\n",
              "      <td>0.432615</td>\n",
              "      <td>NaN</td>\n",
              "      <td>NaN</td>\n",
              "    </tr>\n",
              "    <tr>\n",
              "      <th>Close</th>\n",
              "      <td>0.970202</td>\n",
              "      <td>0.988941</td>\n",
              "      <td>0.986888</td>\n",
              "      <td>1.000000</td>\n",
              "      <td>0.489538</td>\n",
              "      <td>NaN</td>\n",
              "      <td>NaN</td>\n",
              "    </tr>\n",
              "    <tr>\n",
              "      <th>Volume</th>\n",
              "      <td>0.457924</td>\n",
              "      <td>0.536515</td>\n",
              "      <td>0.432615</td>\n",
              "      <td>0.489538</td>\n",
              "      <td>1.000000</td>\n",
              "      <td>NaN</td>\n",
              "      <td>NaN</td>\n",
              "    </tr>\n",
              "    <tr>\n",
              "      <th>Dividends</th>\n",
              "      <td>NaN</td>\n",
              "      <td>NaN</td>\n",
              "      <td>NaN</td>\n",
              "      <td>NaN</td>\n",
              "      <td>NaN</td>\n",
              "      <td>NaN</td>\n",
              "      <td>NaN</td>\n",
              "    </tr>\n",
              "    <tr>\n",
              "      <th>Stock Splits</th>\n",
              "      <td>NaN</td>\n",
              "      <td>NaN</td>\n",
              "      <td>NaN</td>\n",
              "      <td>NaN</td>\n",
              "      <td>NaN</td>\n",
              "      <td>NaN</td>\n",
              "      <td>NaN</td>\n",
              "    </tr>\n",
              "  </tbody>\n",
              "</table>\n",
              "</div>"
            ],
            "text/plain": [
              "                  Open      High       Low  ...    Volume  Dividends  Stock Splits\n",
              "Open          1.000000  0.985846  0.987479  ...  0.457924        NaN           NaN\n",
              "High          0.985846  1.000000  0.986614  ...  0.536515        NaN           NaN\n",
              "Low           0.987479  0.986614  1.000000  ...  0.432615        NaN           NaN\n",
              "Close         0.970202  0.988941  0.986888  ...  0.489538        NaN           NaN\n",
              "Volume        0.457924  0.536515  0.432615  ...  1.000000        NaN           NaN\n",
              "Dividends          NaN       NaN       NaN  ...       NaN        NaN           NaN\n",
              "Stock Splits       NaN       NaN       NaN  ...       NaN        NaN           NaN\n",
              "\n",
              "[7 rows x 7 columns]"
            ]
          },
          "metadata": {
            "tags": []
          },
          "execution_count": 17
        }
      ]
    },
    {
      "cell_type": "code",
      "metadata": {
        "colab": {
          "base_uri": "https://localhost:8080/",
          "height": 296
        },
        "id": "WeM96GwGFXJj",
        "outputId": "3fd89af1-1e46-46b3-d2e0-5fe9444079f8"
      },
      "source": [
        "sns.regplot(data = AMD_StockData_share_price, x = AMD_StockData_share_price.Close, y = AMD_StockData_share_price.Low)"
      ],
      "execution_count": 18,
      "outputs": [
        {
          "output_type": "execute_result",
          "data": {
            "text/plain": [
              "<matplotlib.axes._subplots.AxesSubplot at 0x7fd16d6b2890>"
            ]
          },
          "metadata": {
            "tags": []
          },
          "execution_count": 18
        },
        {
          "output_type": "display_data",
          "data": {
            "image/png": "[encoded data removed]",
            "text/plain": [
              "<Figure size 432x288 with 1 Axes>"
            ]
          },
          "metadata": {
            "tags": [],
            "needs_background": "light"
          }
        }
      ]
    },
    {
      "cell_type": "code",
      "metadata": {
        "colab": {
          "base_uri": "https://localhost:8080/",
          "height": 296
        },
        "id": "4MnCQ8ldFpcO",
        "outputId": "2192b41d-dc12-4034-bfb9-8a7e41a869c3"
      },
      "source": [
        "sns.regplot(data = AMD_StockData_share_price, x = AMD_StockData_share_price.Close, y = AMD_StockData_share_price.High)"
      ],
      "execution_count": 19,
      "outputs": [
        {
          "output_type": "execute_result",
          "data": {
            "text/plain": [
              "<matplotlib.axes._subplots.AxesSubplot at 0x7fd16dba2bd0>"
            ]
          },
          "metadata": {
            "tags": []
          },
          "execution_count": 19
        },
        {
          "output_type": "display_data",
          "data": {
            "image/png": "[encoded data removed]",
            "text/plain": [
              "<Figure size 432x288 with 1 Axes>"
            ]
          },
          "metadata": {
            "tags": [],
            "needs_background": "light"
          }
        }
      ]
    },
    {
      "cell_type": "code",
      "metadata": {
        "id": "GYi0It-uGSgf",
        "colab": {
          "base_uri": "https://localhost:8080/",
          "height": 296
        },
        "outputId": "c3b7c5bd-81c3-4a99-a839-03ff29638bbe"
      },
      "source": [
        "sns.regplot(data = AMD_StockData_share_price, x = AMD_StockData_share_price.Close, y = AMD_StockData_share_price.Open)"
      ],
      "execution_count": 20,
      "outputs": [
        {
          "output_type": "execute_result",
          "data": {
            "text/plain": [
              "<matplotlib.axes._subplots.AxesSubplot at 0x7fd16d6432d0>"
            ]
          },
          "metadata": {
            "tags": []
          },
          "execution_count": 20
        },
        {
          "output_type": "display_data",
          "data": {
            "image/png": "[encoded data removed]",
            "text/plain": [
              "<Figure size 432x288 with 1 Axes>"
            ]
          },
          "metadata": {
            "tags": [],
            "needs_background": "light"
          }
        }
      ]
    },
    {
      "cell_type": "code",
      "metadata": {
        "id": "U7uDwVbsM7gl"
      },
      "source": [
        ""
      ],
      "execution_count": null,
      "outputs": []
    }
  ]
}